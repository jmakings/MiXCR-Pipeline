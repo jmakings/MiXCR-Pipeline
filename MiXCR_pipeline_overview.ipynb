{
  "nbformat": 4,
  "nbformat_minor": 0,
  "metadata": {
    "colab": {
      "provenance": [],
      "collapsed_sections": [],
      "authorship_tag": "ABX9TyN1aQltpMWAoU9BBF4tvuHv",
      "include_colab_link": true
    },
    "kernelspec": {
      "name": "python3",
      "display_name": "Python 3"
    },
    "language_info": {
      "name": "python"
    }
  },
  "cells": [
    {
      "cell_type": "markdown",
      "metadata": {
        "id": "view-in-github",
        "colab_type": "text"
      },
      "source": [
        "<a href=\"https://colab.research.google.com/github/jmakings/MiXCR-Pipeline/blob/main/MiXCR_pipeline_overview.ipynb\" target=\"_parent\"><img src=\"https://colab.research.google.com/assets/colab-badge.svg\" alt=\"Open In Colab\"/></a>"
      ]
    },
    {
      "cell_type": "markdown",
      "source": [
        "# **This file contains various shell scripts for concatenating paired end reads .fastq files across lanes as well as MiXCR scripts**\n",
        "\n",
        "### To utilize scripts with command line input (those with `$1` and/or `$2`) you will need to copy the cell into a text editor and create a .sh file to use command line input"
      ],
      "metadata": {
        "id": "LPCW0ial1W-G"
      }
    },
    {
      "cell_type": "markdown",
      "source": [
        "# Concatenating lanes in paired end data"
      ],
      "metadata": {
        "id": "yVS71GwBybb3"
      }
    },
    {
      "cell_type": "code",
      "source": [
        "import numpy as np"
      ],
      "metadata": {
        "id": "gUK7uBDoR5tv"
      },
      "execution_count": null,
      "outputs": []
    },
    {
      "cell_type": "code",
      "source": [
        "%%shell \n",
        "#!/bin/bash\n",
        "\n",
        "# this script for concatenating all lanes for each paired end read together\n",
        "\n",
        "# final output is two fastq files, one for each paired end read\n",
        "\n",
        "# input: either fastq or fastq.gz, whichever file type you are trying to concatenate\n",
        "\n",
        "printf \"\\n\"\n",
        "echo \"Input Type: $1\"\n",
        "\n",
        "FASTQs=`ls *.$1`\n",
        "\n",
        "SAMPVEC=$( ls $FASTQs | sed 's!.*/!!' | awk '{m=split($0,a,\"_L\"); for(i=1;i<m;i++)printf a[i]}; {print \"\"}' | sort | uniq )\n",
        "\n",
        "for SAMP in $(echo $SAMPVEC)\n",
        "do\n",
        "  printf \"\\n\"\n",
        "  echo $SAMP\n",
        "\n",
        "  printf \"\\n\"\n",
        "  echo \"Merging R1\"\n",
        "  cat ${SAMP}_L00*_R1_001.$1 > ${SAMP}_ME_R1_001.$1\n",
        "  \n",
        "  printf \"\\n\"\n",
        "  echo \"Merging R2\"\n",
        "  cat ${SAMP}_L00*_R2_001.$1 > ${SAMP}_ME_R2_001.$1\n",
        "done\n"
      ],
      "metadata": {
        "id": "aGJZ6_PmgKU-"
      },
      "execution_count": null,
      "outputs": []
    },
    {
      "cell_type": "code",
      "source": [
        "%%shell \n",
        "#!/bin/bash\n",
        "\n",
        "# this script for concatenating a specific sample's reads \n",
        "# (mostly for testing purposes, don't use for more than a few files)\n",
        "\n",
        "# final output is two fastq files, one for each paired end read\n",
        "\n",
        "# input: either fastq or fastq.gz, whichever file type you are trying to concatenate\n",
        "\n",
        "printf \"\\n\"\n",
        "echo \"Input Type: $1\"\n",
        "\n",
        "printf \"\\n\"\n",
        "echo \"Sample: $2\"\n",
        "SAMP=$2\n",
        "\n",
        "printf \"\\n\"\n",
        "echo \"Merging R1\"\n",
        "cat ${SAMP}_L00*_R1_001.$1 > ${SAMP}_ME_R1_001.$1\n",
        "\n",
        "printf \"\\n\"\n",
        "echo \"Merging R2\"\n",
        "cat ${SAMP}_L00*_R2_001.$1 > ${SAMP}_ME_R2_001.$1\n"
      ],
      "metadata": {
        "id": "VDEqzd4TqEB_"
      },
      "execution_count": null,
      "outputs": []
    },
    {
      "cell_type": "markdown",
      "source": [
        "# MiXCR run on concatenated FASTQs"
      ],
      "metadata": {
        "id": "OJN9mjNxypwh"
      }
    },
    {
      "cell_type": "code",
      "execution_count": null,
      "metadata": {
        "id": "tKdx_Ft9Mew7"
      },
      "outputs": [],
      "source": [
        "%%shell \n",
        "#!/bin/bash\n",
        "\n",
        "# this script to obtain the merged FASTQs only and run MiXCR on the merged files\n",
        "# specific for merged files created previously (with ${SAMP}_ME_R1_001)\n",
        "# run in the same directory that FASTQs are located\n",
        "\n",
        "# get fastq files\n",
        "FASTQs=`ls *ME*`\n",
        "\n",
        "# File Extensions\n",
        "SAMPVEC=$( ls $FASTQs | sed 's!.*/!!' | awk '{m=split($0,a,\"_M\"); for(i=1;i<m;i++)printf a[i]}; {print \"\"}' | sort | uniq )\n",
        "\n",
        "#Getting the paired samples as input\n",
        "\n",
        "for SAMP in $( echo $SAMPVEC );\n",
        "do  \n",
        "  printf \"\\n\"\n",
        "  echo \"SAMPLE##################\"\n",
        "  echo $SAMP\n",
        "\n",
        "  MR1=\"${SAMP}_ME_R1_001.fastq.gz\"\n",
        "  MR2=\"${SAMP}_ME_R2_001.fastq.gz\"\n",
        "\n",
        "  echo $MR1\n",
        "  echo $MR2\n",
        "  NAME=\"${SAMP:7:-1}\"\n",
        "\n",
        "  echo \"Final Sample Name: ${NAME}\"\n",
        "  \n",
        "## MIXCR RUN\n",
        "\n",
        "# Creates 4 types of files:\n",
        "# .vdjca files with binary alignments (many for each sample)\n",
        "# .clns files with binary clonotype information (one per sample),\n",
        "# report files that provide overview of alignment, assembly, extension steps\n",
        "# and finally .tsv with clonotype information (one for each TCR chain type)\n",
        "  mixcr analyze shotgun -s hsa \\\n",
        "  --starting-material rna --report ${NAME}_report.txt \\\n",
        "  --receptor-type tcr $MR1 $MR2 ${NAME}\n",
        "done"
      ]
    },
    {
      "cell_type": "markdown",
      "source": [
        "# Pulling more data from clonotype files\n",
        "More information on fields to extract found at https://docs.milaboratories.com/mixcr/reference/mixcr-export/#common-fields\n",
        "\n",
        "\n",
        "This script creates 2 tsv files for each sample: one for TCR B and one for TCR A/D. \n",
        "\n",
        "The preset exported values (denoted by `-p full`) include cloneID, cloneCount, cloneFraction, CDR3 nucleotide and amino acid sequence, target qualities (ASCII-encoded PHRED score of each nucleotide), V,D,J,C hits, scores, and alignments, and minimum PHRED score of the sequence. \n",
        "\n",
        "Also included is CDR3 length, average PHRED score of the target sequence, and V,D,J,C hits, genes, and hitscores split into seperate columns. This information is already included in the preset export, however splitting these into seperate columns may be useful in downstream analysis.\n",
        "\n",
        "Also included is columns with nucleotides split for VCDR3, V-D Junction (N1), DCDR3, D-J Junction (N2), and JCDR3. *These were put together to visually look like Adaptive's output.*\n",
        "\n",
        "Next is the V-J Junction, for clones without a D gene (TCR A/D and a surprising amount of TCR B)\n",
        "\n",
        "\n"
      ],
      "metadata": {
        "id": "7m0nqiCwc3dW"
      }
    },
    {
      "cell_type": "code",
      "source": [
        "%%shell \n",
        "#!/bin/bash\n",
        "\n",
        "# get each clone file in a vector\n",
        "CLNS=`ls *.clns`\n",
        "\n",
        "for SAMP in $CLNS\n",
        "do\n",
        "  BASE=${SAMP%.*}\n",
        "\n",
        "# TCR B clone export\n",
        "  mixcr exportClones \\\n",
        "  --chains TRB \\\n",
        "  -p full \\\n",
        "  -lengthOf CDR3 \\\n",
        "  -nFeature VCDR3Part \\\n",
        "  -nFeature VDJunction \\\n",
        "  -nFeature DCDR3Part \\\n",
        "  -nFeature DJJunction \\\n",
        "  -nFeature JCDR3Part \\\n",
        "  -nFeature VJJunction \\\n",
        "  -avrgFeatureQuality CDR3 \\\n",
        "  -vHit -vGene -vHitScore \\\n",
        "  -dHit -dGene -dHitScore \\\n",
        "  -jHit -jGene -jHitScore \\\n",
        "  -cHit -cGene -cHitScore \\\n",
        "  ${SAMP} ${BASE}_TRB_full.tsv\n",
        "\n",
        "# TCR A/D clone export\n",
        "  mixcr exportClones \\\n",
        "  --chains TRAD \\\n",
        "  -p full \\\n",
        "  -lengthOf CDR3 \\\n",
        "  -nFeature VCDR3Part \\\n",
        "  -nFeature VDJunction \\\n",
        "  -nFeature DCDR3Part \\\n",
        "  -nFeature DJJunction \\\n",
        "  -nFeature JCDR3Part \\\n",
        "  -nFeature VJJunction \\\n",
        "  -avrgFeatureQuality CDR3 \\\n",
        "  -vHit -vGene -vHitScore \\\n",
        "  -dHit -dGene -dHitScore \\\n",
        "  -jHit -jGene -jHitScore \\\n",
        "  -cHit -cGene -cHitScore \\\n",
        "  ${SAMP} ${BASE}_TRAD_full.tsv\n",
        "done\n"
      ],
      "metadata": {
        "id": "_J1sj-ebBH9_"
      },
      "execution_count": null,
      "outputs": []
    },
    {
      "cell_type": "markdown",
      "source": [
        "# Postanalysis (Not used at this time)"
      ],
      "metadata": {
        "id": "MG0MAFBozPqh"
      }
    },
    {
      "cell_type": "markdown",
      "source": [
        "**Update 9/14/22: Many diversity measures found to be incorrect, likely due to bugs in MiXCR software. Immunarach should be used instead**\n",
        "\n",
        "Most important parts of this for Payel: \n",
        "\n",
        "1.   Diversity file (contains many useful diversity measures for each individual sample)\n",
        "2.   Preprocessing file (contains info on productive clones and how many were filtered out)\n",
        "\n",
        "https://docs.milaboratories.com/mixcr/reference/mixcr-postanalysis/\n"
      ],
      "metadata": {
        "id": "3R1_sMPfK84-"
      }
    },
    {
      "cell_type": "code",
      "source": [
        "%%shell \n",
        "#!/bin/bash\n",
        "\n",
        "# Next, we will run postanalysis to get diversity measures for each individual sample file.\n",
        "\n",
        "# Pairwise postanalysis can also be done, however are many combinations (n^2) for\n",
        "# n samples \n",
        "\n",
        "# get clones files \n",
        "CLNS=`ls *.clns`\n",
        "FIRST=\"TRUE\"\n",
        "TRUE=\"TRUE\"\n",
        "\n",
        "for SAMP in $CLNS\n",
        "do\n",
        "  mixcr postanalysis individual \\\n",
        "  --default-downsampling none \\\n",
        "  --default-weight-function none \\\n",
        "  --only-productive \\\n",
        "  --preproc-tables postanalysis_preproc/${SAMP}.preproc.tsv \\\n",
        "  --tables postanalysis_tables/${SAMP}.tsv \\\n",
        "  --chains TRB $SAMP \"${SAMP}.TRB.json\"\n",
        "\n",
        "  mixcr postanalysis individual \\\n",
        "  --default-downsampling none \\\n",
        "  --default-weight-function none \\\n",
        "  --only-productive \\\n",
        "  --preproc-tables postanalysis_preproc/${SAMP}.preproc.tsv \\\n",
        "  --tables postanalysis_tables/${SAMP}.tsv \\\n",
        "  --chains TRAD $SAMP \"${SAMP}.TRAD.json\"\n",
        "\n",
        "  if [ \"$FIRST\" = \"$TRUE\" ]; then\n",
        "    FIRST=\"FALSE\"\n",
        "    cp postanalysis_tables/\"${SAMP}.diversity.TRB.tsv\" combined_diversity.TRB.tsv\n",
        "    cp postanalysis_tables/\"${SAMP}.diversity.TRAD.tsv\" combined_diversity.TRAD.tsv\n",
        "  else\n",
        "    cat postanalysis_tables/\"${SAMP}.diversity.TRB.tsv\" >> combined_diversity.TRB.tsv\n",
        "    cat postanalysis_tables/\"${SAMP}.diversity.TRAD.tsv\" >> combined_diversity.TRAD.tsv\n",
        "  fi\n",
        "done\n",
        "\n",
        "mkdir diversity\n",
        "mv combined_diversity* diversity/"
      ],
      "metadata": {
        "id": "sIV8xKbMXoML"
      },
      "execution_count": null,
      "outputs": []
    },
    {
      "cell_type": "markdown",
      "source": [
        "$f_i$ = frequency of clonotype i\n",
        "\n",
        "Shannon-Weiner Diversity:\n",
        "\n",
        "the exponent of clonotype frequency distribution entropy\n",
        "$$ 1 + \\sum f_i^2 $$\n",
        "\n",
        "Normalized Shannon-Wiener Index:\n",
        "\n",
        "normalized (divided by log of the number of clonotypes) entropy of clonotype frequency distribution\n",
        "$$ \\exp \\left(-\\sum f_i \\log (f_i)\\right) $$\n",
        "\n",
        "Inverse Simpson Index:\n",
        "$$ 1 / \\sum f_i^2 $$\n",
        "\n",
        "Chao1 estimate: \n",
        "Chao lower bound total diversity estimate\n",
        "\n",
        "Efron-Thisted estimate: \n",
        "lower bound total diversity estimate\n",
        "\n",
        "d50: \n",
        "number of clones substituing a half of the sample abundance"
      ],
      "metadata": {
        "id": "hz64ONJXQ-WU"
      }
    },
    {
      "cell_type": "markdown",
      "source": [
        "# QC (Not available at this time)\n",
        "QC isn't available in the software yet. But, it could be useful when it becomes available\n",
        "https://docs.milaboratories.com/mixcr/reference/mixcr-exportQc/"
      ],
      "metadata": {
        "id": "k-knyfRxdFMk"
      }
    },
    {
      "cell_type": "code",
      "source": [
        "%%shell \n",
        "#!/bin/bash\n",
        "\n",
        "# examples of how this can be used\n",
        "\n",
        "# Exports alignment reports, with a pdf showing the rate of alignment \n",
        "mixcr exportQc align \\\n",
        "    [--absolute-values] \\ \n",
        "    sample1.(vdjca|clns|clna)... \\\n",
        "    aligQc.(pdf|eps|svg|png|jpg)  \n",
        "\n",
        "# Exports anchor point (FR1/2/3/4, CDR1/2/3) coverage, with a pdf \n",
        "# showing the fraction of coverage for each read and overlap\n",
        "mixcr exportQc coverage \\\n",
        "    [--show-boundaries] \\\n",
        "    alignments.vdjca \\\n",
        "    coverage.(pdf|eps|svg|png|jpg)  \n",
        "\n",
        "# Exports chain usage summary in alignments (.vdjca) or clonotpyes (.clns) files\n",
        "mixcr exportQc chainUsage \\\n",
        "    [--absolute-values] \\\n",
        "    [--chains <chains>]... \\\n",
        "    [--hide-non-functional] \\\n",
        "    sample1.(vdjca|clns|clna)... \\\n",
        "    chainUsage.(pdf|eps|svg|png|jpg)  "
      ],
      "metadata": {
        "id": "CLdQUzcadLyH"
      },
      "execution_count": null,
      "outputs": []
    }
  ]
}